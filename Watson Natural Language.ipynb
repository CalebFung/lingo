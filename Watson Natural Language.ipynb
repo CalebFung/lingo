{
 "cells": [
  {
   "cell_type": "markdown",
   "metadata": {},
   "source": [
    "# Watson Natural Language"
   ]
  },
  {
   "cell_type": "markdown",
   "metadata": {},
   "source": [
    "This notebook uses [Watson Natural Language Understanding](https://www.ibm.com/watson/services/natural-language-understanding/) to derive sentiment, key words, and key phrases from text."
   ]
  },
  {
   "cell_type": "code",
   "execution_count": 10,
   "metadata": {},
   "outputs": [],
   "source": [
    "import json\n",
    "from watson_developer_cloud import NaturalLanguageUnderstandingV1\n",
    "from watson_developer_cloud.natural_language_understanding_v1 \\\n",
    "  import Features, EntitiesOptions, KeywordsOptions"
   ]
  },
  {
   "cell_type": "code",
   "execution_count": 11,
   "metadata": {},
   "outputs": [],
   "source": [
    "natural_language_understanding = NaturalLanguageUnderstandingV1(\n",
    "  username='',\n",
    "  password='',\n",
    "  version='2018-03-16')"
   ]
  },
  {
   "cell_type": "code",
   "execution_count": 12,
   "metadata": {},
   "outputs": [],
   "source": [
    "response = natural_language_understanding.analyze(\n",
    "  text='IBM is an American multinational technology company '\n",
    "       'headquartered in Armonk, New York, United States, '\n",
    "       'with operations in over 170 countries.',\n",
    "  features=Features(\n",
    "    entities=EntitiesOptions(\n",
    "      emotion=True,\n",
    "      sentiment=True,\n",
    "      limit=2),\n",
    "    keywords=KeywordsOptions(\n",
    "      emotion=True,\n",
    "      sentiment=True,\n",
    "      limit=2)))"
   ]
  },
  {
   "cell_type": "code",
   "execution_count": 13,
   "metadata": {},
   "outputs": [
    {
     "name": "stdout",
     "output_type": "stream",
     "text": [
      "{\n",
      "  \"usage\": {\n",
      "    \"text_units\": 1,\n",
      "    \"text_characters\": 140,\n",
      "    \"features\": 2\n",
      "  },\n",
      "  \"language\": \"en\",\n",
      "  \"keywords\": [\n",
      "    {\n",
      "      \"text\": \"American multinational technology\",\n",
      "      \"sentiment\": {\n",
      "        \"score\": 0.0,\n",
      "        \"label\": \"neutral\"\n",
      "      },\n",
      "      \"relevance\": 0.993518,\n",
      "      \"emotion\": {\n",
      "        \"sadness\": 0.085259,\n",
      "        \"joy\": 0.026169,\n",
      "        \"fear\": 0.02454,\n",
      "        \"disgust\": 0.088711,\n",
      "        \"anger\": 0.033078\n",
      "      }\n",
      "    },\n",
      "    {\n",
      "      \"text\": \"New York\",\n",
      "      \"sentiment\": {\n",
      "        \"score\": 0.0,\n",
      "        \"label\": \"neutral\"\n",
      "      },\n",
      "      \"relevance\": 0.613816,\n",
      "      \"emotion\": {\n",
      "        \"sadness\": 0.166741,\n",
      "        \"joy\": 0.228903,\n",
      "        \"fear\": 0.057987,\n",
      "        \"disgust\": 0.050965,\n",
      "        \"anger\": 0.054653\n",
      "      }\n",
      "    }\n",
      "  ],\n",
      "  \"entities\": [\n",
      "    {\n",
      "      \"type\": \"Company\",\n",
      "      \"text\": \"IBM\",\n",
      "      \"sentiment\": {\n",
      "        \"score\": 0.0,\n",
      "        \"label\": \"neutral\"\n",
      "      },\n",
      "      \"relevance\": 0.33,\n",
      "      \"emotion\": {\n",
      "        \"sadness\": 0.085259,\n",
      "        \"joy\": 0.026169,\n",
      "        \"fear\": 0.02454,\n",
      "        \"disgust\": 0.088711,\n",
      "        \"anger\": 0.033078\n",
      "      },\n",
      "      \"disambiguation\": {\n",
      "        \"subtype\": [\n",
      "          \"SoftwareLicense\",\n",
      "          \"OperatingSystemDeveloper\",\n",
      "          \"ProcessorManufacturer\",\n",
      "          \"SoftwareDeveloper\",\n",
      "          \"CompanyFounder\",\n",
      "          \"ProgrammingLanguageDesigner\",\n",
      "          \"ProgrammingLanguageDeveloper\"\n",
      "        ],\n",
      "        \"name\": \"IBM\",\n",
      "        \"dbpedia_resource\": \"http://dbpedia.org/resource/IBM\"\n",
      "      },\n",
      "      \"count\": 1\n",
      "    }\n",
      "  ]\n",
      "}\n"
     ]
    }
   ],
   "source": [
    "print(json.dumps(response, indent=2))"
   ]
  }
 ],
 "metadata": {
  "kernelspec": {
   "display_name": "Python 3",
   "language": "python",
   "name": "python3"
  },
  "language_info": {
   "codemirror_mode": {
    "name": "ipython",
    "version": 3
   },
   "file_extension": ".py",
   "mimetype": "text/x-python",
   "name": "python",
   "nbconvert_exporter": "python",
   "pygments_lexer": "ipython3",
   "version": "3.6.5"
  }
 },
 "nbformat": 4,
 "nbformat_minor": 2
}
